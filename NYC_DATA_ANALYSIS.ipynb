{
  "nbformat": 4,
  "nbformat_minor": 0,
  "metadata": {
    "colab": {
      "provenance": [],
      "machine_shape": "hm"
    },
    "kernelspec": {
      "name": "python3",
      "display_name": "Python 3"
    },
    "language_info": {
      "name": "python"
    }
  },
  "cells": [
    {
      "cell_type": "code",
      "execution_count": null,
      "metadata": {
        "id": "T9qox2OwlzAS"
      },
      "outputs": [],
      "source": [
        "import findspark\n",
        "findspark.init()"
      ]
    },
    {
      "cell_type": "code",
      "source": [
        "from pyspark.sql import SparkSession\n",
        "spark = SparkSession.builder.master(\"local[*]\").getOrCreate()"
      ],
      "metadata": {
        "id": "YuDgAYZzmHmT"
      },
      "execution_count": null,
      "outputs": []
    },
    {
      "cell_type": "code",
      "source": [
        "import pandas as pd\n",
        "import requests\n",
        "\n",
        "url = \"https://data.cityofnewyork.us/resource/erm2-nwe9.json?$$app_token=a0ZbYGyo6mI8pQ0uwdOPp8y5P\"\n",
        "response = requests.get(url)\n",
        "data = response.json()\n",
        "df = pd.DataFrame(data)\n"
      ],
      "metadata": {
        "id": "ksWmUhZYCFYa"
      },
      "execution_count": null,
      "outputs": []
    },
    {
      "cell_type": "code",
      "source": [
        "!pip install sodapy\n",
        "import pandas as pd\n",
        "from sodapy import Socrata\n",
        "import os\n",
        "\n",
        "app_token = os.environ.get(\"SOCRATA_TOKEN\")# Get token from environment variable\n",
        "username = \"asso796@gmail.com\"\n",
        "password = os.environ.get(\"SOCRATA_PASSWORD\") # Get password from environment variable\n",
        "\n",
        "if password is None:\n",
        "    raise ValueError(\"SOCRATA_PASSWORD environment variable not set.\")\n",
        "\n",
        "client = Socrata(\n",
        "    \"data.cityofnewyork.us\",\n",
        "    app_token,\n",
        "    username=username,\n",
        "    password=password,\n",
        "    timeout=60,\n",
        ")\n",
        "\n",
        "# Get the total number of records (using the efficient count(*) query)\n",
        "count_results = client.get(\"erm2-nwe9\",\n",
        "                         select=\"count(*)\"\n",
        "                         )\n",
        "total_records = int(count_results[0]['count'])  # Extract the count\n",
        "print(f\"Total matching records: {total_records}\")\n",
        "\n",
        "# Pagination loop with progress reporting\n",
        "all_data = []\n",
        "limit = 1000000  # Reduced page size, try 10000 or even lower (5000, 1000) if needed\n",
        "offset = 0\n",
        "retrieved_records = 0  # Keep track of how many we've fetched\n",
        "\n",
        "while retrieved_records < total_records:  # More precise loop condition\n",
        "    print(f\"Fetching rows {offset} to {offset + limit}...\")\n",
        "    try:\n",
        "        results = client.get(\"erm2-nwe9\",\n",
        "                             limit=limit,\n",
        "                             offset=offset,\n",
        "                             select=\"created_date, closed_date, agency, complaint_type, descriptor, location_type, \\\n",
        "                             incident_zip ,city, borough, latitude, longitude, open_data_channel_type, \\\n",
        "                             community_board, facility_type\"\n",
        "                             )\n",
        "\n",
        "        df_page = pd.DataFrame.from_records(results)\n",
        "        if df_page.empty:  # Still a good safety check\n",
        "            break\n",
        "\n",
        "        all_data.append(df_page)\n",
        "        offset += limit\n",
        "        retrieved_records += len(df_page)  # Update the count of retrieved records\n",
        "\n",
        "        # Progress reporting (percentage)\n",
        "        percent_complete = (retrieved_records / total_records) * 100\n",
        "        print(f\"Progress: {percent_complete:.2f}%\")\n",
        "\n",
        "\n",
        "    except Exception as e:\n",
        "        print(f\"An error occurred: {e}\")\n",
        "        # Implement a retry mechanism (optional, but recommended for large datasets)\n",
        "        print(\"Retrying in 10 seconds...\")\n",
        "        import time\n",
        "        time.sleep(10)  # Wait for a short period before retrying\n",
        "\n",
        "# Concatenate and convert data types\n",
        "final_df = pd.concat(all_data, ignore_index=True)\n",
        "\n",
        "# Convert created_date after the loop to minimize type conversions within the loop\n",
        "final_df['created_date'] = pd.to_datetime(final_df['created_date'])\n",
        "final_df['closed_date'] = pd.to_datetime(final_df['closed_date'])\n",
        "# Convert incident_zip to numeric, handle errors by coercing invalid values to NaN\n",
        "final_df['incident_zip'] = pd.to_numeric(final_df['incident_zip'], errors='coerce')\n",
        "\n",
        "print(len(final_df))"
      ],
      "metadata": {
        "colab": {
          "base_uri": "https://localhost:8080/"
        },
        "id": "YEWWzboBNfoE",
        "outputId": "af1634be-d1c2-46f6-a96b-a2ba32264268"
      },
      "execution_count": null,
      "outputs": [
        {
          "output_type": "stream",
          "name": "stdout",
          "text": [
            "Collecting sodapy\n",
            "  Downloading sodapy-2.2.0-py2.py3-none-any.whl.metadata (15 kB)\n",
            "Requirement already satisfied: requests>=2.28.1 in /usr/local/lib/python3.11/dist-packages (from sodapy) (2.32.3)\n",
            "Requirement already satisfied: charset-normalizer<4,>=2 in /usr/local/lib/python3.11/dist-packages (from requests>=2.28.1->sodapy) (3.4.1)\n",
            "Requirement already satisfied: idna<4,>=2.5 in /usr/local/lib/python3.11/dist-packages (from requests>=2.28.1->sodapy) (3.10)\n",
            "Requirement already satisfied: urllib3<3,>=1.21.1 in /usr/local/lib/python3.11/dist-packages (from requests>=2.28.1->sodapy) (2.3.0)\n",
            "Requirement already satisfied: certifi>=2017.4.17 in /usr/local/lib/python3.11/dist-packages (from requests>=2.28.1->sodapy) (2025.1.31)\n",
            "Downloading sodapy-2.2.0-py2.py3-none-any.whl (15 kB)\n",
            "Installing collected packages: sodapy\n",
            "Successfully installed sodapy-2.2.0\n",
            "Total matching records: 39218423\n",
            "Fetching rows 0 to 1000000...\n",
            "Progress: 2.55%\n",
            "Fetching rows 1000000 to 2000000...\n",
            "Progress: 5.10%\n",
            "Fetching rows 2000000 to 3000000...\n",
            "Progress: 7.65%\n",
            "Fetching rows 3000000 to 4000000...\n",
            "Progress: 10.20%\n",
            "Fetching rows 4000000 to 5000000...\n",
            "Progress: 12.75%\n",
            "Fetching rows 5000000 to 6000000...\n",
            "Progress: 15.30%\n",
            "Fetching rows 6000000 to 7000000...\n",
            "Progress: 17.85%\n",
            "Fetching rows 7000000 to 8000000...\n",
            "Progress: 20.40%\n",
            "Fetching rows 8000000 to 9000000...\n",
            "Progress: 22.95%\n",
            "Fetching rows 9000000 to 10000000...\n",
            "Progress: 25.50%\n",
            "Fetching rows 10000000 to 11000000...\n",
            "Progress: 28.05%\n",
            "Fetching rows 11000000 to 12000000...\n",
            "Progress: 30.60%\n",
            "Fetching rows 12000000 to 13000000...\n",
            "Progress: 33.15%\n",
            "Fetching rows 13000000 to 14000000...\n",
            "Progress: 35.70%\n",
            "Fetching rows 14000000 to 15000000...\n",
            "Progress: 38.25%\n",
            "Fetching rows 15000000 to 16000000...\n",
            "Progress: 40.80%\n",
            "Fetching rows 16000000 to 17000000...\n",
            "Progress: 43.35%\n",
            "Fetching rows 17000000 to 18000000...\n",
            "Progress: 45.90%\n",
            "Fetching rows 18000000 to 19000000...\n",
            "Progress: 48.45%\n",
            "Fetching rows 19000000 to 20000000...\n",
            "Progress: 51.00%\n",
            "Fetching rows 20000000 to 21000000...\n",
            "Progress: 53.55%\n",
            "Fetching rows 21000000 to 22000000...\n",
            "Progress: 56.10%\n",
            "Fetching rows 22000000 to 23000000...\n",
            "Progress: 58.65%\n",
            "Fetching rows 23000000 to 24000000...\n",
            "Progress: 61.20%\n",
            "Fetching rows 24000000 to 25000000...\n",
            "Progress: 63.75%\n",
            "Fetching rows 25000000 to 26000000...\n",
            "Progress: 66.30%\n",
            "Fetching rows 26000000 to 27000000...\n",
            "Progress: 68.85%\n",
            "Fetching rows 27000000 to 28000000...\n",
            "Progress: 71.40%\n",
            "Fetching rows 28000000 to 29000000...\n",
            "Progress: 73.94%\n",
            "Fetching rows 29000000 to 30000000...\n",
            "Progress: 76.49%\n",
            "Fetching rows 30000000 to 31000000...\n",
            "Progress: 79.04%\n",
            "Fetching rows 31000000 to 32000000...\n",
            "Progress: 81.59%\n",
            "Fetching rows 32000000 to 33000000...\n",
            "Progress: 84.14%\n",
            "Fetching rows 33000000 to 34000000...\n",
            "Progress: 86.69%\n",
            "Fetching rows 34000000 to 35000000...\n",
            "Progress: 89.24%\n",
            "Fetching rows 35000000 to 36000000...\n",
            "Progress: 91.79%\n",
            "Fetching rows 36000000 to 37000000...\n",
            "Progress: 94.34%\n",
            "Fetching rows 37000000 to 38000000...\n",
            "Progress: 96.89%\n",
            "Fetching rows 38000000 to 39000000...\n",
            "Progress: 99.44%\n",
            "Fetching rows 39000000 to 40000000...\n",
            "Progress: 100.00%\n",
            "39218423\n"
          ]
        }
      ]
    },
    {
      "cell_type": "code",
      "source": [
        "!pip install findspark\n",
        "import findspark\n",
        "findspark.init()"
      ],
      "metadata": {
        "colab": {
          "base_uri": "https://localhost:8080/"
        },
        "id": "4OSauefp5qUa",
        "outputId": "9b4ee464-e380-434f-cfc2-ead6717acbf7"
      },
      "execution_count": null,
      "outputs": [
        {
          "output_type": "stream",
          "name": "stdout",
          "text": [
            "Collecting findspark\n",
            "  Downloading findspark-2.0.1-py2.py3-none-any.whl.metadata (352 bytes)\n",
            "Downloading findspark-2.0.1-py2.py3-none-any.whl (4.4 kB)\n",
            "Installing collected packages: findspark\n",
            "Successfully installed findspark-2.0.1\n"
          ]
        }
      ]
    },
    {
      "cell_type": "code",
      "source": [
        "from google.colab import drive  # Import the drive module\n",
        "import os\n",
        "# Mount Google Drive\n",
        "drive.mount('/content/drive')"
      ],
      "metadata": {
        "colab": {
          "base_uri": "https://localhost:8080/"
        },
        "id": "8iyKvGdjuYFC",
        "outputId": "8705cdd1-f27c-4291-b3f6-274e583f2b61"
      },
      "execution_count": null,
      "outputs": [
        {
          "output_type": "stream",
          "name": "stdout",
          "text": [
            "Drive already mounted at /content/drive; to attempt to forcibly remount, call drive.mount(\"/content/drive\", force_remount=True).\n"
          ]
        }
      ]
    },
    {
      "cell_type": "code",
      "source": [
        "\n",
        "\n",
        "from pyspark.sql import SparkSession\n",
        "\n",
        "# Assuming 'final_df' from your previous code is still in memory\n",
        "# If not, load the CSV file you saved earlier.\n",
        "\n",
        "spark = SparkSession.builder.appName(\"ReadCSV\").getOrCreate()\n",
        "\n",
        "# Replace with the actual path to your CSV file\n",
        "file_path = '/content/drive/MyDrive/Colab Notebooks/NYC/nyc_311_data.csv'\n",
        "\n",
        "df_spark = spark.read.csv(file_path, header=True, inferSchema=True)\n",
        "\n",
        "# Now you can work with the PySpark DataFrame 'df_spark'\n",
        "df_spark.printSchema()\n",
        "df_spark.show(5)\n"
      ],
      "metadata": {
        "colab": {
          "base_uri": "https://localhost:8080/"
        },
        "id": "-eSL_oF8xjcS",
        "outputId": "ac56f029-7a88-4b48-faeb-383c33049f31"
      },
      "execution_count": null,
      "outputs": [
        {
          "output_type": "stream",
          "name": "stdout",
          "text": [
            "root\n",
            " |-- created_date: timestamp (nullable = true)\n",
            " |-- closed_date: timestamp (nullable = true)\n",
            " |-- agency: string (nullable = true)\n",
            " |-- complaint_type: string (nullable = true)\n",
            " |-- descriptor: string (nullable = true)\n",
            " |-- location_type: string (nullable = true)\n",
            " |-- incident_zip: double (nullable = true)\n",
            " |-- city: string (nullable = true)\n",
            " |-- borough: string (nullable = true)\n",
            " |-- latitude: double (nullable = true)\n",
            " |-- longitude: double (nullable = true)\n",
            " |-- open_data_channel_type: string (nullable = true)\n",
            " |-- community_board: string (nullable = true)\n",
            " |-- facility_type: string (nullable = true)\n",
            "\n",
            "+-------------------+-------------------+------+--------------------+--------------------+--------------------+------------+----------------+---------+------------------+------------------+----------------------+---------------+-------------+\n",
            "|       created_date|        closed_date|agency|      complaint_type|          descriptor|       location_type|incident_zip|            city|  borough|          latitude|         longitude|open_data_channel_type|community_board|facility_type|\n",
            "+-------------------+-------------------+------+--------------------+--------------------+--------------------+------------+----------------+---------+------------------+------------------+----------------------+---------------+-------------+\n",
            "|2014-06-22 02:04:48|2014-06-22 03:19:21|  NYPD| Noise - Residential|    Loud Music/Party|Residential Build...|     10027.0|        NEW YORK|MANHATTAN|40.811948970584716|-73.94364832426544|                ONLINE|   10 MANHATTAN|     Precinct|\n",
            "|2014-06-22 00:00:00|2014-06-24 00:00:00|   HPD|      HEAT/HOT WATER|     ENTIRE BUILDING|RESIDENTIAL BUILDING|     11207.0|        BROOKLYN| BROOKLYN| 40.68056515423213| -73.8865992915168|                 PHONE|    05 BROOKLYN|          N/A|\n",
            "|2014-06-21 12:41:30|               NULL| DOHMH|       Unleashed Dog|Unleashed Dog in ...|Public/Unfenced Area|     11101.0|LONG ISLAND CITY|   QUEENS|40.738675634699035|-73.92908124900462|                 PHONE|      02 QUEENS|          N/A|\n",
            "|2014-06-22 01:04:07|2014-06-22 05:30:18|  NYPD| Noise - Residential|    Loud Music/Party|Residential Build...|     11215.0|        BROOKLYN| BROOKLYN| 40.65848673856384|-73.99019655499097|                ONLINE|    07 BROOKLYN|     Precinct|\n",
            "|2014-06-21 23:04:55|2014-06-21 23:20:53|  NYPD|Noise - Street/Si...|    Loud Music/Party|     Street/Sidewalk|     11215.0|        BROOKLYN| BROOKLYN|40.666169248288796|-73.98880764605859|                 PHONE|    06 BROOKLYN|     Precinct|\n",
            "+-------------------+-------------------+------+--------------------+--------------------+--------------------+------------+----------------+---------+------------------+------------------+----------------------+---------------+-------------+\n",
            "only showing top 5 rows\n",
            "\n"
          ]
        }
      ]
    },
    {
      "cell_type": "code",
      "source": [
        "\n",
        "RESULT = spark.sql(\"\"\"\n",
        "  SELECT UPPER(CITY) AS CITY, COUNT(*) AS COMPLAINT_COUNT\n",
        "  FROM NYC311\n",
        "  GROUP BY UPPER(CITY)\n",
        "  ORDER BY COMPLAINT_COUNT DESC\n",
        "  LIMIT 10\n",
        "\"\"\")\n",
        "RESULT.show()\n"
      ],
      "metadata": {
        "colab": {
          "base_uri": "https://localhost:8080/"
        },
        "id": "yHEw_-YSJ0wF",
        "outputId": "57d1af5c-9d20-4810-c18b-69b2586f8e96"
      },
      "execution_count": null,
      "outputs": [
        {
          "output_type": "stream",
          "name": "stdout",
          "text": [
            "+-------------+---------------+\n",
            "|         CITY|COMPLAINT_COUNT|\n",
            "+-------------+---------------+\n",
            "|     BROOKLYN|       11603527|\n",
            "|     NEW YORK|        7392377|\n",
            "|        BRONX|        7249489|\n",
            "|         NULL|        2150236|\n",
            "|STATEN ISLAND|        1840677|\n",
            "|      JAMAICA|         926220|\n",
            "|     FLUSHING|         670600|\n",
            "|      ASTORIA|         642581|\n",
            "|    RIDGEWOOD|         493716|\n",
            "|       CORONA|         317630|\n",
            "+-------------+---------------+\n",
            "\n"
          ]
        }
      ]
    },
    {
      "cell_type": "code",
      "source": [
        "result2 = spark.sql(\"\"\"\n",
        "  SELECT complaint_type, COUNT(*) AS count\n",
        "  FROM nyc311\n",
        "  GROUP BY complaint_type\n",
        "  ORDER BY count DESC\n",
        "  LIMIT 10\n",
        "\"\"\")\n",
        "result2.show(truncate=False)\n"
      ],
      "metadata": {
        "colab": {
          "base_uri": "https://localhost:8080/"
        },
        "id": "qwh3zwEzG5g8",
        "outputId": "432bb01c-72fc-48b0-82a9-118b4757bfbe"
      },
      "execution_count": null,
      "outputs": [
        {
          "output_type": "stream",
          "name": "stdout",
          "text": [
            "+-----------------------+-------+\n",
            "|complaint_type         |count  |\n",
            "+-----------------------+-------+\n",
            "|Noise - Residential    |3530794|\n",
            "|Illegal Parking        |2761322|\n",
            "|HEAT/HOT WATER         |2618138|\n",
            "|Blocked Driveway       |1704377|\n",
            "|Street Condition       |1421226|\n",
            "|Noise - Street/Sidewalk|1282116|\n",
            "|Street Light Condition |1197072|\n",
            "|PLUMBING               |1000642|\n",
            "|UNSANITARY CONDITION   |991713 |\n",
            "|Water System           |990493 |\n",
            "+-----------------------+-------+\n",
            "\n"
          ]
        }
      ]
    },
    {
      "cell_type": "code",
      "source": [
        "# Register DataFrame as a temporary view\n",
        "\n",
        "\n",
        "# SQL Query: Find most frequent complaint type for top 10 cities\n",
        "result = spark.sql(\"\"\"\n",
        "WITH top_cities AS (\n",
        "  SELECT UPPER(CITY) AS CITY, COUNT(*) AS COMPLAINT_COUNT\n",
        "  FROM NYC311\n",
        "  GROUP BY UPPER(CITY)\n",
        "  ORDER BY COMPLAINT_COUNT DESC\n",
        "  LIMIT 10\n",
        "),\n",
        "city_complaints AS (\n",
        "    SELECT n.city, n.complaint_type, COUNT(*) AS type_count\n",
        "    FROM nyc311 n\n",
        "    INNER JOIN top_cities t ON n.city = t.city\n",
        "    GROUP BY n.city, n.complaint_type\n",
        "),\n",
        "ranked_complaints AS (\n",
        "    SELECT city, complaint_type, type_count,\n",
        "           ROW_NUMBER() OVER (PARTITION BY city ORDER BY type_count DESC) AS rn\n",
        "    FROM city_complaints\n",
        ")\n",
        "SELECT city, complaint_type, type_count\n",
        "FROM ranked_complaints\n",
        "WHERE rn = 1\n",
        "ORDER BY type_count DESC\n",
        "\"\"\")\n",
        "\n",
        "# Show the results\n",
        "result.show()\n"
      ],
      "metadata": {
        "colab": {
          "base_uri": "https://localhost:8080/"
        },
        "id": "qw94a21_HSrt",
        "outputId": "e95cdf3c-995b-4de8-bd67-5e25ca1db779"
      },
      "execution_count": null,
      "outputs": [
        {
          "output_type": "stream",
          "name": "stdout",
          "text": [
            "+-------------+-------------------+----------+\n",
            "|         city|     complaint_type|type_count|\n",
            "+-------------+-------------------+----------+\n",
            "|        BRONX|Noise - Residential|   1020630|\n",
            "|     BROOKLYN|Noise - Residential|    972989|\n",
            "|     NEW YORK|Noise - Residential|    721546|\n",
            "|STATEN ISLAND|   Street Condition|    166889|\n",
            "|      JAMAICA|Noise - Residential|     84330|\n",
            "|    RIDGEWOOD|    Illegal Parking|     69396|\n",
            "|     FLUSHING|   Blocked Driveway|     61834|\n",
            "|      ASTORIA|    Illegal Parking|     61054|\n",
            "|       CORONA|   Blocked Driveway|     56759|\n",
            "+-------------+-------------------+----------+\n",
            "\n"
          ]
        }
      ]
    },
    {
      "cell_type": "code",
      "source": [
        "import pandas as pd\n",
        "import matplotlib.pyplot as plt\n",
        "\n",
        "# Convert Spark DataFrame to Pandas DataFrame\n",
        "df = result.toPandas()\n",
        "\n",
        "# Create a bar chart\n",
        "plt.figure(figsize=(10,6))\n",
        "bars = plt.bar(df['city'], df['type_count'], color='skyblue')\n",
        "\n",
        "# Annotate each bar with the complaint type\n",
        "for i, bar in enumerate(bars):\n",
        "    plt.text(bar.get_x() + bar.get_width()/2, bar.get_height(),\n",
        "             df['complaint_type'][i], ha='center', va='bottom', fontsize=9)\n",
        "\n",
        "plt.xlabel(\"City\")\n",
        "plt.ylabel(\"Complaint Count\")\n",
        "plt.title(\"Most Frequent Complaint Type for Top 10 Cities\")\n",
        "plt.xticks(rotation=45)\n",
        "plt.tight_layout()\n",
        "plt.show()\n"
      ],
      "metadata": {
        "colab": {
          "base_uri": "https://localhost:8080/",
          "height": 607
        },
        "id": "U7LGyDNyP6HM",
        "outputId": "d84f835d-88dd-428d-f2ff-960eef6826d9"
      },
      "execution_count": null,
      "outputs": [
        {
          "output_type": "display_data",
          "data": {
            "text/plain": [
              "<Figure size 1000x600 with 1 Axes>"
            ],
            "image/png": "[encoded data removed]"
          },
          "metadata": {}
        }
      ]
    }
  ]
}