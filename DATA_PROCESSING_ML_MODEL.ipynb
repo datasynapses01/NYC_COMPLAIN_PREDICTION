{
  "cells": [
    {
      "cell_type": "code",
      "execution_count": null,
      "metadata": {
        "colab": {
          "base_uri": "https://localhost:8080/"
        },
        "id": "jSetufO7oWHb",
        "outputId": "3e84dab7-d079-4a6d-ba75-74acfa2f88ad"
      },
      "outputs": [
        {
          "output_type": "stream",
          "name": "stdout",
          "text": [
            "Collecting findspark\n",
            "  Downloading findspark-2.0.1-py2.py3-none-any.whl.metadata (352 bytes)\n",
            "Downloading findspark-2.0.1-py2.py3-none-any.whl (4.4 kB)\n",
            "Installing collected packages: findspark\n",
            "Successfully installed findspark-2.0.1\n"
          ]
        }
      ],
      "source": [
        "!pip install findspark\n",
        "import findspark\n",
        "findspark.init()\n",
        "import pyspark\n",
        "from pyspark.sql import SparkSession"
      ]
    },
    {
      "cell_type": "code",
      "execution_count": null,
      "metadata": {
        "colab": {
          "base_uri": "https://localhost:8080/"
        },
        "id": "FwWXm6SBo7Nh",
        "outputId": "068d4ce5-1500-4195-9464-d71a357ed596"
      },
      "outputs": [
        {
          "output_type": "stream",
          "name": "stdout",
          "text": [
            "Drive already mounted at /content/drive; to attempt to forcibly remount, call drive.mount(\"/content/drive\", force_remount=True).\n"
          ]
        }
      ],
      "source": [
        "from google.colab import drive  # Import the drive module\n",
        "import os\n",
        "# Mount Google Drive\n",
        "drive.mount('/content/drive')"
      ]
    },
    {
      "cell_type": "code",
      "execution_count": null,
      "metadata": {
        "colab": {
          "base_uri": "https://localhost:8080/"
        },
        "id": "4ntbBgjGo7TS",
        "outputId": "099f052a-7b5a-455b-dc56-8d7c1e448ec0"
      },
      "outputs": [
        {
          "output_type": "stream",
          "name": "stdout",
          "text": [
            "root\n",
            " |-- created_date: timestamp (nullable = true)\n",
            " |-- closed_date: timestamp (nullable = true)\n",
            " |-- agency: string (nullable = true)\n",
            " |-- complaint_type: string (nullable = true)\n",
            " |-- descriptor: string (nullable = true)\n",
            " |-- location_type: string (nullable = true)\n",
            " |-- incident_zip: double (nullable = true)\n",
            " |-- city: string (nullable = true)\n",
            " |-- borough: string (nullable = true)\n",
            " |-- latitude: double (nullable = true)\n",
            " |-- longitude: double (nullable = true)\n",
            " |-- open_data_channel_type: string (nullable = true)\n",
            " |-- community_board: string (nullable = true)\n",
            " |-- facility_type: string (nullable = true)\n",
            "\n",
            "+-------------------+-------------------+------+--------------------+--------------------+--------------------+------------+----------------+---------+------------------+------------------+----------------------+---------------+-------------+\n",
            "|       created_date|        closed_date|agency|      complaint_type|          descriptor|       location_type|incident_zip|            city|  borough|          latitude|         longitude|open_data_channel_type|community_board|facility_type|\n",
            "+-------------------+-------------------+------+--------------------+--------------------+--------------------+------------+----------------+---------+------------------+------------------+----------------------+---------------+-------------+\n",
            "|2014-06-22 02:04:48|2014-06-22 03:19:21|  NYPD| Noise - Residential|    Loud Music/Party|Residential Build...|     10027.0|        NEW YORK|MANHATTAN|40.811948970584716|-73.94364832426544|                ONLINE|   10 MANHATTAN|     Precinct|\n",
            "|2014-06-22 00:00:00|2014-06-24 00:00:00|   HPD|      HEAT/HOT WATER|     ENTIRE BUILDING|RESIDENTIAL BUILDING|     11207.0|        BROOKLYN| BROOKLYN| 40.68056515423213| -73.8865992915168|                 PHONE|    05 BROOKLYN|          N/A|\n",
            "|2014-06-21 12:41:30|               NULL| DOHMH|       Unleashed Dog|Unleashed Dog in ...|Public/Unfenced Area|     11101.0|LONG ISLAND CITY|   QUEENS|40.738675634699035|-73.92908124900462|                 PHONE|      02 QUEENS|          N/A|\n",
            "|2014-06-22 01:04:07|2014-06-22 05:30:18|  NYPD| Noise - Residential|    Loud Music/Party|Residential Build...|     11215.0|        BROOKLYN| BROOKLYN| 40.65848673856384|-73.99019655499097|                ONLINE|    07 BROOKLYN|     Precinct|\n",
            "|2014-06-21 23:04:55|2014-06-21 23:20:53|  NYPD|Noise - Street/Si...|    Loud Music/Party|     Street/Sidewalk|     11215.0|        BROOKLYN| BROOKLYN|40.666169248288796|-73.98880764605859|                 PHONE|    06 BROOKLYN|     Precinct|\n",
            "+-------------------+-------------------+------+--------------------+--------------------+--------------------+------------+----------------+---------+------------------+------------------+----------------------+---------------+-------------+\n",
            "only showing top 5 rows\n",
            "\n"
          ]
        }
      ],
      "source": [
        "from pyspark.sql import SparkSession\n",
        "\n",
        "#creating spark Session\n",
        "spark = SparkSession.builder.appName(\"ReadCSV\").getOrCreate()\n",
        "\n",
        "#reading the file in spark Dataframe\n",
        "file_path = '/content/drive/MyDrive/Colab Notebooks/NYC/nyc_311_data.csv'\n",
        "\n",
        "df_spark = spark.read.csv(file_path, header=True, inferSchema=True)\n",
        "\n",
        "# Now you can work with the PySpark DataFrame 'df_spark'\n",
        "df_spark.printSchema()\n",
        "df_spark.show(5)\n"
      ]
    },
    {
      "cell_type": "code",
      "execution_count": null,
      "metadata": {
        "colab": {
          "base_uri": "https://localhost:8080/"
        },
        "id": "0LdqhynEpVYh",
        "outputId": "740bbb24-ef5a-4311-a553-2355686b3206"
      },
      "outputs": [
        {
          "output_type": "stream",
          "name": "stdout",
          "text": [
            "Checking for missing values:\n",
            "+------------+-----------+------+--------------+----------+-------------+------------+-------+-------+--------+---------+----------------------+---------------+-------------+\n",
            "|created_date|closed_date|agency|complaint_type|descriptor|location_type|incident_zip|   city|borough|latitude|longitude|open_data_channel_type|community_board|facility_type|\n",
            "+------------+-----------+------+--------------+----------+-------------+------------+-------+-------+--------+---------+----------------------+---------------+-------------+\n",
            "|           0|     955643|     0|             0|    141135|      8047543|     1564582|2150236|  28886| 2615636|  2615636|                     0|          28886|     14390533|\n",
            "+------------+-----------+------+--------------+----------+-------------+------------+-------+-------+--------+---------+----------------------+---------------+-------------+\n",
            "\n",
            "\n",
            "Checking for inconsistent values (empty strings and spaces):\n",
            "\n",
            "Checking for data type inconsistencies (if any):\n",
            "+------------+\n",
            "|incident_zip|\n",
            "+------------+\n",
            "|       10027|\n",
            "+------------+\n",
            "only showing top 1 row\n",
            "\n",
            "incident_zip is castable to integer\n",
            "+---------------------+\n",
            "|to_date(created_date)|\n",
            "+---------------------+\n",
            "|           2014-06-22|\n",
            "+---------------------+\n",
            "only showing top 1 row\n",
            "\n",
            "created_date is castable to date\n",
            "+--------------------+\n",
            "|to_date(closed_date)|\n",
            "+--------------------+\n",
            "|          2014-06-22|\n",
            "+--------------------+\n",
            "only showing top 1 row\n",
            "\n",
            "closed_date is castable to date\n",
            "\n",
            "Unique complaint types: ['Traffic Signal Condition', 'SAFETY', 'Cranes and Derricks', 'ELECTRIC', 'Animal-Abuse', 'Street Sweeping Complaint', 'Tanning', 'DOOR/WINDOW', 'Comments', 'Noise - Helicopter', 'Broken Parking Meter', 'Window Guard', 'Broken Muni Meter', 'Highway Condition', 'Street Condition', 'Hazardous Materials', 'FLOORING/STAIRS', 'Illegal Dumping', 'Vending', 'Ferry Permit', 'OUTSIDE BUILDING', 'Taxi Report', 'Drinking Water', 'UNSANITARY CONDITION', 'Bus Stop Shelter Complaint', 'Public Toilet', 'DOF Property - RPIE Issue', 'Municipal Parking Facility', 'DOF Property - Reduction Issue', 'Animal in a Park', 'Animal Abuse', 'Taxi Compliment', 'Smoking', 'Illegal Animal Kept as Pet', 'Parking Card', 'Literature Request', 'Noise - House of Worship', 'DHS Advantage -Landlord/Broker', 'AGENCY', 'Abandoned Bike', 'Sanitation Condition', 'Special Natural Area District (SNAD)', 'Home Delivered Meal Complaint', 'Illegal Parking', 'APPLIANCE', 'Building Condition', 'Noise - Residential', 'Obstruction', 'Sewer', 'Drug Activity', 'DOF Parking - DMV Clearance', 'Dirty Condition', 'Noise - Commercial', 'Highway Sign - Dangling', 'Water System', 'Adopt-A-Basket', 'Squeegee', 'Air Quality', 'Lead', 'Street Sign - Missing', 'Home Delivered Meal - Missed Delivery', 'Lost Property', 'DCA / DOH New License Application Request', 'Derelict Vehicle', 'OEM Literature Request', 'ELEVATOR', 'DOF Property - Property Value', 'Outdoor Dining', 'LinkNYC', 'Senior Center Complaint', 'DOF Property - City Rebate', 'X-Ray Machine/Equipment', 'Blocked Driveway', 'Beach/Pool/Sauna Complaint', 'Lot Condition', 'Homeless Encampment', 'Housing - Low Income Senior', 'Bike/Roller/Skate Chronic', 'Taxi Complaint', 'HEAT/HOT WATER', 'Sidewalk Condition', 'Litter Basket / Request', 'Lifeguard', 'E-Scooter', 'Stalled Sites', 'Maintenance or Facility', 'Consumer Complaint', 'Water Conservation', 'For Hire Vehicle Complaint', 'HPD Literature Request', 'Illegal Tree Damage', 'DOF Parking - Tax Exemption', 'Benefit Card Replacement', 'Indoor Sewage', 'Unsanitary Animal Pvt Property', 'Asbestos', 'Construction Lead Dust', 'Derelict Bicycle', 'Sweeping/Missed', 'Water Quality', 'Private or Charter School Reopening', 'Standing Water', 'GENERAL', 'Noise - Park', 'Construction', 'Bus Stop Shelter Placement', 'Poison Ivy', 'Missed Collection (All Materials)', 'Disorderly Youth', 'Highway Sign - Damaged', 'Electronics Waste Appointment', 'PAINT/PLASTER', 'Bike Rack Condition', 'Illegal Animal Sold', 'Non-Residential Heat', 'Home Care Provider Complaint', 'Green Taxi Report', 'Found Property', 'Other Enforcement', 'Litter Basket Complaint', 'Homeless Person Assistance', 'Posting Advertisement', 'Dead Animal', 'Legal Services Provider Complaint', 'Scaffold Safety', 'Miscellaneous Categories', 'Recycling Enforcement', 'Noise', 'Elder Abuse', 'Abandoned Vehicle', 'New Tree Request', 'Boilers', 'DOF Property - Update Account', 'Industrial Waste', 'Sweeping/Inadequate', 'DOF Property - Owner Issue', 'Tattooing', 'Construction Safety Enforcement', \"Alzheimer's Care\", 'Forms', 'Dead/Dying Tree', 'Vaccine Mandate Non-Compliance', 'Mold', 'Collection Truck Noise', 'Real Time Enforcement', 'Street Light Condition', 'Plumbing', 'Storm', 'Calorie Labeling', 'Ferry Complaint', 'Elevator', 'DOF Parking - Payment Issue', 'Litter Basket Request', 'Building/Use', 'DOF Property - Request Copy', 'Trans Fat', 'Drinking', 'Bridge Condition', 'Request Large Bulky Item Collection', 'Housing Options', 'Public Payphone Complaint', 'Transportation Provider Complaint', 'PLUMBING', 'BEST/Site Safety', 'NORC Complaint', 'Case Management Agency Complaint', 'Encampment', 'Dumpster Complaint', 'Sanitation Worker or Vehicle Complaint', 'Emergency Response Team (ERT)', 'Question', 'Animal Facility - No Permit', 'Root/Sewer/Sidewalk Condition', 'City Vehicle Placard Complaint', 'Mobile Food Vendor', 'Investigations and Discipline (IAD)', 'Street Sign - Damaged', 'Non-Emergency Police Matter', 'Food Poisoning', 'General Construction/Plumbing', 'Panhandling', 'Dead Tree', 'Street Sign - Dangling', 'DOF Parking - Request Status', 'Damaged Tree', 'Noise - Vehicle', 'Special Projects Inspection Team (SPIT)', 'SCRIE', 'Overflowing Recycling Baskets', 'Snow', 'Rodent', 'Radioactive Material', 'Unsanitary Animal Facility', 'Highway Sign - Missing', 'Overflowing Litter Baskets', 'Harboring Bees/Wasps', 'Bottled Water', 'Wood Pile Remaining', 'Illegal Fireworks', 'Unleashed Dog', 'Traffic', 'Food Establishment', 'Derelict Vehicles', 'WATER LEAK', 'Graffiti', 'DPR Internal', 'Noise - Street/Sidewalk', 'Dirty Conditions', 'Vendor Enforcement', 'Plant', 'FCST', 'Violation of Park Rules', 'Curb Condition', 'Tunnel Condition', 'Seasonal Collection', 'Indoor Air Quality', 'Bereavement Support Group', 'Illegal Posting', 'For Hire Vehicle Report', 'DOF Parking - Request Copy', 'Dept of Investigations', 'Urinating in Public', 'Missed Collection', 'Unsanitary Pigeon Condition', 'Ferry Inquiry', 'Vacant Lot', 'DHS Income Savings Requirement', 'Overgrown Tree/Branches', 'DOF Property - Payment Issue', 'FATF', 'School Maintenance', 'DHS Advantage - Tenant', 'ATF', 'Electrical', 'PAINT - PLASTER', 'GENERAL CONSTRUCTION', 'Registration and Transfers', 'Noise Survey', 'SG-99', 'Health', 'CONSTRUCTION', 'NONCONST', 'Sweeping/Missed-Inadequate', 'Utility Program', 'HEAP Assistance', 'Weatherization', 'Discipline and Suspension', 'Residential Disposal Complaint', 'Home Repair', 'Borough Office', 'Summer Camp', 'No Child Left Behind', 'Parent Leadership', 'DHS Advantage - Third Party', 'Safety', 'Teaching/Learning/Instruction', 'HEATING', 'Interior Demo', 'Mosquitoes', 'Portable Toilet', 'Water Maintenance', 'DOF Parking - Address Update', 'Eviction', 'Forensic Engineering', 'AHV Inspection Unit', 'Traffic/Illegal Parking', 'Pet Shop', 'Commercial Disposal Complaint', 'Snow or Ice', 'Uprooted Stump', 'DEP Street Condition', 'Green Taxi Complaint', 'Recycling Basket Complaint', 'Building Drinking Water Tank', 'Trapping Pigeon', 'Transfer Station Complaint', 'Incorrect Data', 'Bench', 'COVID-19 Non-essential Construction', 'Taxi Licensee Complaint', 'Executive Inspections', 'Building Marshals office', \"Building Marshal's Office\", 'Leaning Bar', 'Quality of Life', 'Cooling Tower', 'FHV Licensee Complaint', 'Sustainability Enforcement', 'Bike Rack', 'Institution Disposal Complaint', 'Oil or Gas Spill', 'Dispatched Taxi Complaint', 'DEP Highway Condition', 'Wayfinding', 'Smoking or Vaping', 'Advocate-Prop Refunds/Credits', 'Unsanitary Condition', 'Advocate-Co-opCondo Abatement', 'General', 'Sewer Maintenance', 'Research Questions', 'Request Xmas Tree Collection', 'Door/Window', 'DOR Literature Request', 'Heat/Hot Water', 'Facades', 'Boiler', 'Advocate - Other', 'Day Care', 'Flooring/Stairs', 'Unstable Building', 'Advocate-UBT', 'Water Drainage', 'Taxpayer Advocate Inquiry', 'Advocate - RPIE', 'Paint/Plaster', 'Electric', 'Appliance', 'Advocate-SCRIE/DRIE', 'ZTESTINT', 'Advocate-Personal Exemptions', 'OEM Disabled Vehicle', 'Water Leak', 'SRDE', 'Advocate-Property Value', 'Asbestos/Garbage Nuisance', 'DSNY Internal', 'Retailer Complaint', 'Face Covering Violation', 'Internal Code', 'Special Operations', 'Dispatched Taxi Compliment', 'Advocate-Business Tax', 'DRIE', 'Advocate - Lien', 'SNW', 'Unlicensed Dog', 'Select Message Type...', 'Electronics Waste', 'Advocate-Commercial Exemptions', 'Foam Ban Enforcement', 'Advocate-Foreclosure', 'Injured Wildlife', 'Advocate - Levy', 'Illegal Animal - Sold/Kept', 'Snow Removal', 'Homebound Evacuation 4', 'Special Enforcement', 'VACANT APARTMENT', 'General Question', 'LEAD', 'MOLD', 'Private School Vaccine Mandate Non-Compliance', 'Mass Gathering Complaint', 'Facade Insp Safety Pgm', 'Fire Alarm - Replacement', 'Single Occupancy Bathroom', 'DEP Sidewalk Condition', 'SRGOVG', 'Peeling Paint', 'Employee Behavior', 'ZSYSTEST', 'Advocate-Prop Class Incorrect', 'Homeless Street Condition', 'NonCompliance with Phased Reopening', 'DSNY Spillage', '..\\\\..\\\\..\\\\..\\\\..\\\\..\\\\..\\\\..\\\\..\\\\...', \"Misc. Comments' and '7835'=...\", 'Misc. Commentso0w3r%&gt;xb6...', \"Misc. Comments}}t2v95'/&quo...\", '@(9313*3464)', '.../....///.../....///.../....', \"{!xmlparser v='&lt;!DOCTYPE...\", \"Misc. Comments' and '1618'=...\", 'Misc. Comments&amp;ping -n ...', '*)(!(objectClass=*)', \"Misc. Comments')waitfor del...\", \"Misc. Comments' waitfor del...\", 'Misc. Comments&quot;|ping -...', '%2e%2e%5c%2e%2e%5c%2e%2e%5c...', '%c0%ae/WEB-INF/web.xml', 'Misc. Comments../../../../....', 'Misc. Comments]]&gt;&gt;&lt;', 'Misc. Commentseowljujfh8', '.../Misc. Comments', 'qfix4${695*589}lixaf', '/./validate_form.php', 'Misc. Comments&amp;nslookup...', '&lt;odb xmlns:xi=&quot;http...', 'bcd9&lt;!--esi--&gt;1ggp&lt...', './validate_form.php', \"Misc. Comments'(select*from...\", 'Misc. Comments  BCC:a5glxzf...', 'idexf3mrb7)(!(objectClass=*)', \"Misc. Comments');declare @q...\", '%2fetc%2fpasswd', \"Misc. Comments' and 6049=60...\", '/etc/passwd', '*)(objectClass=*', '%E5%98%8A%E5%98%8DX-Injecti...', '../../../../../../../../../...', \"Misc. Comments52038737' or ...\", 'file:///etc/passwd', \"Misc. Comments47876391' or ...\", \"(select load_file('\\\\\\\\\\\\\\\\615h...\", \"Misc. Comments'||(select ex...\", 'Misc. Comments|nslookup -q=...', 'Misc. Comments&amp;echo xjd...', '../../WEB-INF/web.xml;x=', '.../...//.../...//.../...//...', '../WEB-INF/web.xml', 'file:///c:/windows/win.ini', \"Misc. Comments'|ping -c 21 ...\", 'Misc. Comments{${sleep(20)}}', 'Misc. Comments);declare @q ...', \"kawn''lcgv\", '%{(#dm=@ognl.OgnlContext@DE...', '() { :;}; /bin/sleep 0', '%c0%ae/%c0%ae/%c0%ae/%c0%ae...', '() { :;}; /bin/sleep 11', \"Misc. Comments'.sleep(20).'\", 'Misc. Comments,(select*from...', '...\\\\./...\\\\./...\\\\./...\\\\./......', \"Misc. Comments',0)waitfor d...\", 'c:\\\\windows\\\\win.ini', \"eval(compile('for x in rang...\", \"Misc. Comments'+sleep(20.to...\", '%c0%ae/%c0%ae/WEB-INF/web.xml', 'Misc. Comments|ping -c 21 1...', '.../.\\\\.../.\\\\.../.\\\\.../.\\\\......', '$(sleep 11)', \"Misc. Comments'|echo y9v6fc...\", \"Misc. Comments'+eval(compil...\", \"Misc. Comments' and (select...\", '1430*4963', 'nslookup -q=cname nneyfcxgy...', '%2e%2e%2f%2e%2e%2f%2e%2e%2f...', '../../../WEB-INF/web.xml;x=', '`sleep 11`', '${3804*3137}', '../../../../WEB-INF/web.xml', '266dyrgvhg1egsyp2oq57axbm2s...', 'Misc. Comments|echo 3p7wexz...', 'Misc. Comments&quot;', \"a'a\\\\'b&quot;c&gt;?&gt;%}}%%...\", \"Misc. Comments88909845' or ...\", 'http://g7orz5h9iu2sh6z332rj...', '...\\\\.\\\\...\\\\.\\\\...\\\\.\\\\...\\\\.\\\\......', \"Misc. Comments'\", '&lt;vlv xmlns=&quot;http://...', '\\\\windows\\\\win.ini', 'MSOTHER', '../../WEB-INF/web.xml', 'Misc. Comments;declare @q v...', '..././..././..././..././......', '../../../WEB-INF/web.xml', 'yw97y0gi2s', \"Misc. Comments%}dt2pq'/&quo...\", 'hcvn1{{687*375}}gji51', 'c:\\\\windows\\\\win.ini Misc. Co...', \"Misc. Comments'&quot;`0&amp...\", '() { _; } &gt;_', 'Misc. Comments..\\\\..\\\\..\\\\..\\\\....', \"Misc. Comments'+(select loa...\", \"Misc. Comments';declare @q ...\", 'g0oii1s4s5)(objectClass=*', \"Misc. Comments' and 7702=77...\", \"&quot;--&gt;'--&gt;`--&gt;&...\", 'Misc. Comments&gt;  BCC:bl0...', \"Misc. Comments69075347' or ...\", '%{4761*8506}', 'Change Collection Schedule', 'Hazardous Material']\n"
          ]
        }
      ],
      "source": [
        "from pyspark.sql.functions import col, count, when\n",
        "# Check for missing values\n",
        "print(\"Checking for missing values:\")\n",
        "df_spark.select([count(when(col(c).isNull(), c)).alias(c) for c in df_spark.columns]).show()\n",
        "\n",
        "# Check for inconsistent values ( empty strings, spaces)\n",
        "print(\"\\nChecking for inconsistent values (empty strings and spaces):\")\n",
        "for col_name in df_spark.columns:\n",
        "    count_empty_strings = df_spark.filter(col(col_name) == \"\").count()\n",
        "    count_spaces = df_spark.filter(col(col_name) == \" \").count()\n",
        "    if count_empty_strings > 0 or count_spaces > 0:\n",
        "        print(f\"Column '{col_name}':\")\n",
        "        if count_empty_strings > 0:\n",
        "            print(f\"  - Empty strings: {count_empty_strings}\")\n",
        "        if count_spaces > 0:\n",
        "            print(f\"  - Spaces: {count_spaces}\")\n",
        "\n",
        "# Check for data type inconsistencies (if needed, based on your schema)\n",
        "print(\"\\nChecking for data type inconsistencies (if any):\")\n",
        "\n",
        "#Example, if you think that the column 'incident_zip' should be numeric:\n",
        "if 'incident_zip' in df_spark.columns:\n",
        "    try:\n",
        "        df_spark.select(col(\"incident_zip\").cast(\"integer\")).show(1)\n",
        "        print(\"incident_zip is castable to integer\")\n",
        "    except Exception as e:\n",
        "        print(f\"incident_zip cannot be casted to integer, error: {e}\")\n",
        "\n",
        "# Example of checking if a date column is really a date.\n",
        "if 'created_date' in df_spark.columns:\n",
        "    from pyspark.sql.functions import to_date\n",
        "    try:\n",
        "        df_spark.select(to_date(col(\"created_date\"))).show(1)\n",
        "        print(\"created_date is castable to date\")\n",
        "    except Exception as e:\n",
        "        print(f\"created_date cannot be casted to date, error: {e}\")\n",
        "\n",
        "if 'closed_date' in df_spark.columns:\n",
        "    from pyspark.sql.functions import to_date\n",
        "    try:\n",
        "        df_spark.select(to_date(col(\"closed_date\"))).show(1)\n",
        "        print(\"closed_date is castable to date\")\n",
        "    except Exception as e:\n",
        "        print(f\"closed_date cannot be casted to date, error: {e}\")\n",
        "\n",
        "# checking if a complaint_type contains only allowed values.\n",
        "if 'complaint_type' in df_spark.columns:\n",
        "    allowed_complaint_types = df_spark.select('complaint_type').distinct().rdd.flatMap(lambda x: x).collect()\n",
        "    print(f\"\\nUnique complaint types: {allowed_complaint_types}\")"
      ]
    },
    {
      "cell_type": "code",
      "execution_count": null,
      "metadata": {
        "colab": {
          "base_uri": "https://localhost:8080/"
        },
        "id": "p0UzjN-erSze",
        "outputId": "36a29fac-9a4c-498c-c790-8f4d13817c63"
      },
      "outputs": [
        {
          "output_type": "stream",
          "name": "stdout",
          "text": [
            "Original DataFrame count: 39218423\n",
            "Cleaned DataFrame count: 38262780\n"
          ]
        }
      ],
      "source": [
        "#since it is crucial to know when was the case closed it is better to delete the rows that do not have closed date\n",
        "# Delete rows where 'closed_date' is null\n",
        "df_cleaned = df_spark.filter(col(\"closed_date\").isNotNull())\n",
        "\n",
        "# Verify the deletion\n",
        "print(f\"Original DataFrame count: {df_spark.count()}\")\n",
        "print(f\"Cleaned DataFrame count: {df_cleaned.count()}\")\n"
      ]
    },
    {
      "cell_type": "code",
      "execution_count": null,
      "metadata": {
        "id": "U1gQ92tQresd"
      },
      "outputs": [],
      "source": [
        "from pyspark.sql.functions import col, when\n",
        "\n",
        "# Define categorical columns (excluding date/time and numeric)\n",
        "categorical_cols = [\n",
        "    \"agency\",\n",
        "    \"complaint_type\",\n",
        "    \"descriptor\",\n",
        "    \"location_type\",\n",
        "    \"city\",\n",
        "    \"borough\",\n",
        "    \"open_data_channel_type\",\n",
        "    \"community_board\",\n",
        "    \"facility_type\",\n",
        "]\n",
        "\n",
        "# Replace null values or cells containing \"N/A\" with \"Unknown\" in categorical columns\n",
        "for col_name in categorical_cols:\n",
        "    df_cleaned = df_cleaned.withColumn(\n",
        "        col_name,\n",
        "        when(col(col_name).isNull() | (col(col_name) == \"N/A\"), \"Unknown\").otherwise(col(col_name))\n",
        "    )\n"
      ]
    },
    {
      "cell_type": "code",
      "execution_count": null,
      "metadata": {
        "id": "Tdj4sXiSro4g"
      },
      "outputs": [],
      "source": [
        "from pyspark.sql.functions import col, udf\n",
        "from pyspark.sql.types import StringType\n",
        "from geopy.geocoders import Nominatim\n",
        "from geopy.exc import GeocoderTimedOut, GeocoderServiceError\n",
        "\n",
        "def get_zipcode(latitude, longitude):\n",
        "    \"\"\"Retrieves the zipcode for given latitude and longitude.\"\"\"\n",
        "    if latitude is None or longitude is None:\n",
        "        return None  # Handle missing coordinates\n",
        "\n",
        "    try:\n",
        "        # Initialize geolocator within the UDF\n",
        "        geolocator = Nominatim(user_agent=\"zipcode_replacement\")\n",
        "        location = geolocator.reverse((latitude, longitude), exactly_one=True, language='en')\n",
        "        if location and location.raw.get('address') and location.raw['address'].get('postcode'):\n",
        "            return location.raw['address']['postcode']\n",
        "        else:\n",
        "            return None # Handle cases where post code is not returned\n",
        "    except (GeocoderTimedOut, GeocoderServiceError) as e:\n",
        "        print(f\"Geocoder error: {e}\")\n",
        "        return None\n",
        "    except Exception as e:\n",
        "        print(f\"Unexpected error: {e}\")\n",
        "        return None\n",
        "\n",
        "# Register UDF\n",
        "get_zipcode_udf = udf(get_zipcode, StringType())\n",
        "\n",
        "# Replace 'incident_zip' with zipcodes from lat/long\n",
        "df_with_new_zip = df_cleaned.withColumn(\n",
        "    \"new_zipcode\", get_zipcode_udf(col(\"latitude\"), col(\"longitude\"))\n",
        ")\n",
        "\n",
        "# Replace the original 'incident_zip' with the new zipcodes, if available.\n",
        "df_replaced_zip = df_with_new_zip.withColumn(\n",
        "    \"incident_zip\", when(col(\"new_zipcode\").isNotNull(), col(\"new_zipcode\").cast(\"double\")).otherwise(col(\"incident_zip\"))\n",
        ").drop(\"new_zipcode\")\n",
        "\n"
      ]
    },
    {
      "cell_type": "code",
      "execution_count": null,
      "metadata": {
        "colab": {
          "base_uri": "https://localhost:8080/"
        },
        "id": "-k7k49RKrv7N",
        "outputId": "f5dba752-e457-4c44-ba7d-0ca357dd66d9"
      },
      "outputs": [
        {
          "output_type": "stream",
          "name": "stdout",
          "text": [
            "+-------------------+-------------------+------+--------------------+--------------------+--------------------+------------+-------------+---------+------------------+------------------+----------------------+---------------+-------------+\n",
            "|       created_date|        closed_date|agency|      complaint_type|          descriptor|       location_type|incident_zip|         city|  borough|          latitude|         longitude|open_data_channel_type|community_board|facility_type|\n",
            "+-------------------+-------------------+------+--------------------+--------------------+--------------------+------------+-------------+---------+------------------+------------------+----------------------+---------------+-------------+\n",
            "|2014-06-22 02:04:48|2014-06-22 03:19:21|  NYPD| Noise - Residential|    Loud Music/Party|Residential Build...|     10027.0|     NEW YORK|MANHATTAN|40.811948970584716|-73.94364832426544|                ONLINE|   10 MANHATTAN|     Precinct|\n",
            "|2014-06-22 00:00:00|2014-06-24 00:00:00|   HPD|      HEAT/HOT WATER|     ENTIRE BUILDING|RESIDENTIAL BUILDING|     11207.0|     BROOKLYN| BROOKLYN| 40.68056515423213| -73.8865992915168|                 PHONE|    05 BROOKLYN|      Unknown|\n",
            "|2014-06-22 01:04:07|2014-06-22 05:30:18|  NYPD| Noise - Residential|    Loud Music/Party|Residential Build...|     11215.0|     BROOKLYN| BROOKLYN| 40.65848673856384|-73.99019655499097|                ONLINE|    07 BROOKLYN|     Precinct|\n",
            "|2014-06-21 23:04:55|2014-06-21 23:20:53|  NYPD|Noise - Street/Si...|    Loud Music/Party|     Street/Sidewalk|     11215.0|     BROOKLYN| BROOKLYN|40.666169248288796|-73.98880764605859|                 PHONE|    06 BROOKLYN|     Precinct|\n",
            "|2014-06-21 08:15:00|2014-06-28 17:00:00|   DEP|               Noise|Noise: Constructi...|             Unknown|     11369.0|East Elmhurst|   QUEENS| 40.75868059241288|-73.87551106619334|                 PHONE|      03 QUEENS|      Unknown|\n",
            "+-------------------+-------------------+------+--------------------+--------------------+--------------------+------------+-------------+---------+------------------+------------------+----------------------+---------------+-------------+\n",
            "only showing top 5 rows\n",
            "\n"
          ]
        }
      ],
      "source": [
        "# Delete rows where 'latitude' is null\n",
        "df_temp = df_replaced_zip.filter(col(\"latitude\").isNotNull())\n",
        "# Delete rows where 'longitude' is null\n",
        "df_final = df_temp.filter(col(\"longitude\").isNotNull())\n",
        "\n",
        "\n",
        "df_final.show(5)"
      ]
    },
    {
      "cell_type": "code",
      "execution_count": null,
      "metadata": {
        "colab": {
          "base_uri": "https://localhost:8080/"
        },
        "id": "KfKJ5Y5o1k_x",
        "outputId": "1db6e3cb-3617-47a0-b7ed-c8871d36b0d3"
      },
      "outputs": [
        {
          "output_type": "stream",
          "name": "stdout",
          "text": [
            "The Final DataFrame count: 35698902\n"
          ]
        }
      ],
      "source": [
        "print(f\"The Final DataFrame count: {df_final.count()}\")"
      ]
    },
    {
      "cell_type": "code",
      "execution_count": null,
      "metadata": {
        "id": "Rp4D_71f4xkB"
      },
      "outputs": [],
      "source": [
        "from pyspark.sql.functions import col, datediff, unix_timestamp, hour, dayofweek, month, year, when\n",
        "from pyspark.ml.feature import StringIndexer, VectorAssembler, OneHotEncoder\n",
        "from pyspark.ml.regression import LinearRegression, RandomForestRegressor, GBTRegressor\n",
        "from pyspark.ml import Pipeline\n",
        "from pyspark.ml.evaluation import RegressionEvaluator\n",
        "from pyspark.ml.tuning import CrossValidator, ParamGridBuilder"
      ]
    },
    {
      "cell_type": "code",
      "execution_count": null,
      "metadata": {
        "id": "k--Ola1NEFsv"
      },
      "outputs": [],
      "source": [
        "from pyspark.sql.functions import unix_timestamp, col, hour, dayofweek, month, year, when\n",
        "\n",
        "# Calculate response time\n",
        "df_final = df_final.withColumn(\"response_time\", unix_timestamp(col(\"closed_date\")) - unix_timestamp(col(\"created_date\")))\n",
        "\n",
        "# Feature engineering\n",
        "df_final = df_final.withColumn(\"hour\", hour(col(\"created_date\")))\n",
        "df_final = df_final.withColumn(\"day_of_week\", dayofweek(col(\"created_date\")))\n",
        "df_final = df_final.withColumn(\"month\", month(col(\"created_date\")))\n",
        "df_final = df_final.withColumn(\"year\", year(col(\"created_date\")))\n",
        "df_final = df_final.withColumn(\"time_of_day\", when((col(\"hour\") >= 6) & (col(\"hour\") < 12), \"morning\").when((col(\"hour\") >= 12) & (col(\"hour\") < 18), \"afternoon\").when((col(\"hour\") >= 18) & (col(\"hour\") < 22), \"evening\").otherwise(\"night\"))\n",
        "df_final = df_final.withColumn(\"is_weekend\", when((col(\"day_of_week\") == 1) | (col(\"day_of_week\") == 7), 1).otherwise(0))\n",
        "\n",
        "#Cache the dataframe.\n",
        "df_final = df_final.cache()\n",
        "\n"
      ]
    },
    {
      "cell_type": "code",
      "source": [
        "df_final.printSchema()"
      ],
      "metadata": {
        "colab": {
          "base_uri": "https://localhost:8080/"
        },
        "id": "BVitJU7CMtXz",
        "outputId": "71b228f5-48a4-4ed2-e8a8-8b55a1a47f34"
      },
      "execution_count": null,
      "outputs": [
        {
          "output_type": "stream",
          "name": "stdout",
          "text": [
            "root\n",
            " |-- created_date: timestamp (nullable = true)\n",
            " |-- closed_date: timestamp (nullable = true)\n",
            " |-- agency: string (nullable = true)\n",
            " |-- complaint_type: string (nullable = true)\n",
            " |-- descriptor: string (nullable = true)\n",
            " |-- location_type: string (nullable = true)\n",
            " |-- incident_zip: double (nullable = true)\n",
            " |-- city: string (nullable = true)\n",
            " |-- borough: string (nullable = true)\n",
            " |-- latitude: double (nullable = true)\n",
            " |-- longitude: double (nullable = true)\n",
            " |-- open_data_channel_type: string (nullable = true)\n",
            " |-- community_board: string (nullable = true)\n",
            " |-- facility_type: string (nullable = true)\n",
            " |-- response_time: long (nullable = true)\n",
            " |-- hour: integer (nullable = true)\n",
            " |-- day_of_week: integer (nullable = true)\n",
            " |-- month: integer (nullable = true)\n",
            " |-- year: integer (nullable = true)\n",
            " |-- time_of_day: string (nullable = false)\n",
            " |-- is_weekend: integer (nullable = false)\n",
            "\n"
          ]
        }
      ]
    },
    {
      "cell_type": "code",
      "execution_count": null,
      "metadata": {
        "id": "V8LAvvEm56Hh"
      },
      "outputs": [],
      "source": [
        "\n",
        "\n",
        "# String indexer and one-hot encoder\n",
        "indexers = [StringIndexer(inputCol=col_name, outputCol=col_name + \"_index\", handleInvalid=\"keep\") for col_name in categorical_cols]\n",
        "encoders = [OneHotEncoder(inputCol=col_name + \"_index\", outputCol=col_name + \"_encoded\") for col_name in categorical_cols]\n",
        "\n",
        "\n",
        "# Vector assembler\n",
        "numerical_cols = [\"incident_zip\", \"latitude\", \"longitude\", \"hour\", \"day_of_week\", \"month\", \"year\",\"is_weekend\"]\n",
        "encoded_cols = [col_name + \"_encoded\" for col_name in categorical_cols]\n",
        "assembler = VectorAssembler(inputCols=numerical_cols + encoded_cols, outputCol=\"features\")\n",
        "\n",
        "# Linear regression model\n",
        "lr = LinearRegression(featuresCol=\"features\", labelCol=\"response_time\")\n",
        "\n",
        "# Pipeline\n",
        "pipeline = Pipeline(stages=indexers + encoders + [assembler, lr])\n"
      ]
    },
    {
      "cell_type": "code",
      "source": [
        "train_df, test_df = df_final.randomSplit([0.8, 0.2], seed=42)\n",
        "test_df.show(5)"
      ],
      "metadata": {
        "colab": {
          "base_uri": "https://localhost:8080/"
        },
        "id": "1h4fKEAvdFs2",
        "outputId": "f810c592-651f-4b87-ca6b-13dbf0c0f7a2"
      },
      "execution_count": null,
      "outputs": [
        {
          "output_type": "stream",
          "name": "stdout",
          "text": [
            "+-------------------+-------------------+------+--------------------+--------------------+------------+--------+---------+----------------------+--------------------+-------------+-------------+-----------+------------+-------------+----+-----------+-----+----+-----------+----------+\n",
            "|       created_date|        closed_date|agency|      complaint_type|          descriptor|incident_zip|    city|  borough|open_data_channel_type|     community_board|facility_type|location_type|   latitude|   longitude|response_time|hour|day_of_week|month|year|time_of_day|is_weekend|\n",
            "+-------------------+-------------------+------+--------------------+--------------------+------------+--------+---------+----------------------+--------------------+-------------+-------------+-----------+------------+-------------+----+-----------+-----+----+-----------+----------+\n",
            "|2022-02-27 19:45:00|2022-02-27 20:23:48|  NYPD|          Encampment|             Unknown|        NULL| Unknown|MANHATTAN|                MOBILE|Unspecified MANHA...|      Unknown|       Subway|40.77789057|-73.95179032|         2328|  19|          1|    2|2022|    evening|         1|\n",
            "|2022-02-28 10:47:06|2022-05-12 00:00:00|  DSNY|            Graffiti|            Graffiti|     11207.0|BROOKLYN| BROOKLYN|               UNKNOWN|         05 BROOKLYN|      Unknown|    Mixed Use|40.66456065|-73.88689684|      6268374|  10|          2|    2|2022|    morning|         0|\n",
            "|2022-02-28 12:55:17|2023-06-20 11:56:51|  DSNY|            Graffiti|            Graffiti|     11207.0|BROOKLYN| BROOKLYN|               UNKNOWN|         05 BROOKLYN|      Unknown|      Unknown|40.66429843|-73.89703321|     41209294|  12|          2|    2|2022|  afternoon|         0|\n",
            "|2022-02-28 19:57:38|2022-02-28 20:11:42|  NYPD|          Encampment|             Unknown|        NULL| Unknown| BROOKLYN|                MOBILE|Unspecified BROOKLYN|      Unknown|       Subway|40.68415965|-73.97778953|          844|  19|          2|    2|2022|    evening|         0|\n",
            "|2022-03-01 15:16:00|2022-03-01 17:10:00|   DOT|Traffic Signal Co...|Sidewalk Pull Box Co|     11101.0|  QUEENS|   QUEENS|               UNKNOWN|           02 QUEENS|      Unknown|      Unknown|40.75240484|-73.94396217|         6840|  15|          3|    3|2022|  afternoon|         0|\n",
            "+-------------------+-------------------+------+--------------------+--------------------+------------+--------+---------+----------------------+--------------------+-------------+-------------+-----------+------------+-------------+----+-----------+-----+----+-----------+----------+\n",
            "only showing top 5 rows\n",
            "\n"
          ]
        }
      ]
    },
    {
      "cell_type": "code",
      "source": [
        "# Train-test split\n",
        "train_df, test_df = df_final.randomSplit([0.8, 0.2], seed=42)\n",
        "\n",
        "model = pipeline.fit(train_df)\n",
        "\n",
        "# Make predictions\n",
        "predictions = model.transform(test_df)\n",
        "\n",
        "# Evaluate the model\n",
        "evaluator = RegressionEvaluator(labelCol=\"response_time\", predictionCol=\"prediction\", metricName=\"rmse\")\n",
        "rmse = evaluator.evaluate(predictions)\n",
        "print(f\"Root Mean Squared Error (RMSE): {rmse}\")"
      ],
      "metadata": {
        "id": "Glzv_vMGbSHF"
      },
      "execution_count": null,
      "outputs": []
    }
  ],
  "metadata": {
    "colab": {
      "machine_shape": "hm",
      "provenance": []
    },
    "kernelspec": {
      "display_name": "Python 3",
      "name": "python3"
    },
    "language_info": {
      "name": "python"
    }
  },
  "nbformat": 4,
  "nbformat_minor": 0
}